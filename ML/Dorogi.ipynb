{
 "cells": [
  {
   "cell_type": "markdown",
   "id": "54b06545-7eff-4bc5-a121-bf5bfa8ee183",
   "metadata": {},
   "source": [
    "### Описание задачи"
   ]
  },
  {
   "cell_type": "markdown",
   "id": "14775f53-ef69-4cf5-b4b0-31b293ac50c1",
   "metadata": {},
   "source": [
    "Из нейросети получены данные о заруженности в виде количества машин на перекрестке.\n",
    "Задача спрогнозировать количество траффика в нужный момент времени"
   ]
  },
  {
   "cell_type": "markdown",
   "id": "7e7a5981-7415-460d-b766-4f3240044df2",
   "metadata": {
    "tags": []
   },
   "source": [
    "### Импорты"
   ]
  },
  {
   "cell_type": "code",
   "execution_count": null,
   "id": "0011b25a-98dd-46c5-97fd-8b75e7f90055",
   "metadata": {},
   "outputs": [],
   "source": [
    "# pip install ephem"
   ]
  },
  {
   "cell_type": "code",
   "execution_count": 198,
   "id": "f846a791-f53c-4811-b882-6df3d2f4e10b",
   "metadata": {
    "execution": {
     "iopub.execute_input": "2023-06-16T19:52:12.529353Z",
     "iopub.status.busy": "2023-06-16T19:52:12.529010Z",
     "iopub.status.idle": "2023-06-16T19:52:12.532370Z",
     "shell.execute_reply": "2023-06-16T19:52:12.531879Z",
     "shell.execute_reply.started": "2023-06-16T19:52:12.529337Z"
    },
    "tags": []
   },
   "outputs": [],
   "source": [
    "import numpy as np\n",
    "import pandas as pd\n",
    "from sklearn.model_selection import train_test_split\n",
    "from sklearn.linear_model import LinearRegression\n",
    "import lightgbm as lgb\n",
    "from sklearn.metrics import mean_squared_error\n",
    "from sklearn.model_selection import cross_val_score\n",
    "from sklearn.model_selection import TimeSeriesSplit\n",
    "import ephem"
   ]
  },
  {
   "cell_type": "markdown",
   "id": "6326509d-75e1-444e-96eb-f293c5fd76ee",
   "metadata": {},
   "source": [
    "### Генерация данных"
   ]
  },
  {
   "cell_type": "code",
   "execution_count": 246,
   "id": "5335a5d7-f03e-41f5-9858-8862dfd191ab",
   "metadata": {
    "execution": {
     "iopub.execute_input": "2023-06-16T20:19:14.682010Z",
     "iopub.status.busy": "2023-06-16T20:19:14.681524Z",
     "iopub.status.idle": "2023-06-16T20:19:14.719903Z",
     "shell.execute_reply": "2023-06-16T20:19:14.719221Z",
     "shell.execute_reply.started": "2023-06-16T20:19:14.681990Z"
    },
    "tags": []
   },
   "outputs": [],
   "source": [
    "\n",
    "\n",
    "# Set the desired date range\n",
    "start_date = '2023-01-01'\n",
    "end_date = '2023-12-31'\n",
    "\n",
    "# Generate a date range with hourly frequency\n",
    "date_range = pd.date_range(start=start_date, end=end_date, freq='H')\n",
    "\n",
    "\n",
    "# Generate data with higher car counts during peak hours on working days\n",
    "data = {\n",
    "    'date': date_range,\n",
    "    'number_of_cars': [\n",
    "        np.random.randint(50, 100) if ((date.hour  in range(7,10) or date.hour in range (17,20)) and date.weekday() <6) else np.random.randint(0, 50)\n",
    "        for date in date_range\n",
    "    ]\n",
    "}\n",
    "\n",
    "df = pd.DataFrame(data)\n",
    "\n",
    "# Convert the 'date' column to datetime index\n",
    "df.set_index('date', inplace=True)\n",
    "\n",
    "\n"
   ]
  },
  {
   "cell_type": "code",
   "execution_count": 247,
   "id": "711ee7eb-61b3-4d7b-bd81-37eb346abb8f",
   "metadata": {
    "execution": {
     "iopub.execute_input": "2023-06-16T20:19:17.411324Z",
     "iopub.status.busy": "2023-06-16T20:19:17.410925Z",
     "iopub.status.idle": "2023-06-16T20:19:18.449100Z",
     "shell.execute_reply": "2023-06-16T20:19:18.448555Z",
     "shell.execute_reply.started": "2023-06-16T20:19:17.411307Z"
    },
    "tags": []
   },
   "outputs": [],
   "source": [
    "\n",
    "\n",
    "def generate_temperature(date):\n",
    "    observer = ephem.Observer()\n",
    "    observer.lat = '45.0355'  # Latitude of Krasnodar, Russia\n",
    "    observer.date = date\n",
    "\n",
    "    sunrise = observer.previous_rising(ephem.Sun()).datetime()\n",
    "    sunset = observer.next_setting(ephem.Sun()).datetime()\n",
    "\n",
    "    temperature_range = {\n",
    "        'spring': (-5, 20),    # Temperature range for spring\n",
    "        'summer': (20, 35),    # Temperature range for summer\n",
    "        'autumn': (5, 20),     # Temperature range for autumn\n",
    "        'winter': (-5, 10)     # Temperature range for winter\n",
    "    }\n",
    "\n",
    "    if sunrise < date < sunset:  # Daytime temperature\n",
    "        if 80 <= date.timetuple().tm_yday <= 171:  # Spring\n",
    "            return np.random.randint(*temperature_range['spring'])\n",
    "        elif 172 <= date.timetuple().tm_yday <= 264:  # Summer\n",
    "            return np.random.randint(*temperature_range['summer'])\n",
    "        elif 265 <= date.timetuple().tm_yday <= 355:  # Autumn\n",
    "            return np.random.randint(*temperature_range['autumn'])\n",
    "        else:  # Winter\n",
    "            return np.random.randint(*temperature_range['winter'])\n",
    "    else:  # Nighttime temperature\n",
    "        return np.random.randint(-10, 5)  # Assume slightly colder temperature during nighttime\n",
    "\n",
    "# Add temperature column to the dataframe\n",
    "df['temperature'] = [generate_temperature(date) for date in df.index]\n"
   ]
  },
  {
   "cell_type": "markdown",
   "id": "ef54f582-a371-49eb-8eed-058ee48515f8",
   "metadata": {},
   "source": [
    "### Вcпомогательные функции"
   ]
  },
  {
   "cell_type": "code",
   "execution_count": 260,
   "id": "ca117877-7922-4963-8dba-d49c43902da4",
   "metadata": {
    "execution": {
     "iopub.execute_input": "2023-06-16T20:24:07.507228Z",
     "iopub.status.busy": "2023-06-16T20:24:07.507024Z",
     "iopub.status.idle": "2023-06-16T20:24:07.534328Z",
     "shell.execute_reply": "2023-06-16T20:24:07.533773Z",
     "shell.execute_reply.started": "2023-06-16T20:24:07.507210Z"
    },
    "tags": []
   },
   "outputs": [],
   "source": [
    "df.to_csv('traffic_prediction.csv')"
   ]
  },
  {
   "cell_type": "code",
   "execution_count": 201,
   "id": "836f0009-ee5b-474a-abe3-679bbda456c2",
   "metadata": {
    "execution": {
     "iopub.execute_input": "2023-06-16T19:52:19.898890Z",
     "iopub.status.busy": "2023-06-16T19:52:19.898523Z",
     "iopub.status.idle": "2023-06-16T19:52:19.902420Z",
     "shell.execute_reply": "2023-06-16T19:52:19.901940Z",
     "shell.execute_reply.started": "2023-06-16T19:52:19.898870Z"
    },
    "tags": []
   },
   "outputs": [],
   "source": [
    "def make_features(data, max_lag, rolling_mean_size):\n",
    "    \"\"\"makes additional features for timeseries dataset\"\"\"\n",
    "    data['year'] = data.index.year\n",
    "    data['month'] = data.index.month\n",
    "    data['day'] = data.index.day\n",
    "    data['dayofweek'] = data.index.dayofweek\n",
    "    for i in range(1, max_lag + 1):\n",
    "        column_name = \"lag_\" + str(i)\n",
    "        data[column_name] = data['number_of_cars'].shift(i)\n",
    "    data['rolling_mean'] = data['lag_1'].rolling(rolling_mean_size).mean()\n",
    "    \n",
    "    return data\n"
   ]
  },
  {
   "cell_type": "markdown",
   "id": "f1d6ac0e-27a8-4311-bbe2-27f84551e7f2",
   "metadata": {},
   "source": [
    "### Разделение выборки на тренировочную и тестовую\n",
    "\n",
    "Применяем специальный сплит для временных рядов, чтобы не было утечки данных"
   ]
  },
  {
   "cell_type": "code",
   "execution_count": 202,
   "id": "254db275-5c55-4a87-b173-d819dc0a4e70",
   "metadata": {
    "execution": {
     "iopub.execute_input": "2023-06-16T19:52:25.707620Z",
     "iopub.status.busy": "2023-06-16T19:52:25.707392Z",
     "iopub.status.idle": "2023-06-16T19:52:25.710221Z",
     "shell.execute_reply": "2023-06-16T19:52:25.709845Z",
     "shell.execute_reply.started": "2023-06-16T19:52:25.707604Z"
    },
    "tags": []
   },
   "outputs": [],
   "source": [
    "tscv = TimeSeriesSplit(n_splits=5)\n",
    "scoring_metric='neg_mean_squared_error'"
   ]
  },
  {
   "cell_type": "code",
   "execution_count": 218,
   "id": "b7f8d4cb-96c1-4057-b0fe-e5900842a27b",
   "metadata": {
    "execution": {
     "iopub.execute_input": "2023-06-16T20:00:44.611749Z",
     "iopub.status.busy": "2023-06-16T20:00:44.611223Z",
     "iopub.status.idle": "2023-06-16T20:00:44.615151Z",
     "shell.execute_reply": "2023-06-16T20:00:44.614785Z",
     "shell.execute_reply.started": "2023-06-16T20:00:44.611729Z"
    },
    "tags": []
   },
   "outputs": [],
   "source": [
    "def make_features(data, max_lag, rolling_mean_size):\n",
    "    data['year'] = data.index.year\n",
    "    data['month'] = data.index.month\n",
    "    data['day'] = data.index.day\n",
    "    data['hour'] = data.index.hour\n",
    "    data['dayofweek'] = data.index.dayofweek\n",
    "\n",
    "    lag_cols = []\n",
    "    new_data = pd.DataFrame()\n",
    "    for i in range(1, max_lag + 1):\n",
    "        column_name = \"lag_\" + str(i)\n",
    "        new_data[column_name] = data['number_of_cars'].shift(i)\n",
    "        lag_cols.append(column_name)\n",
    "    \n",
    "    data = pd.concat([data, new_data], axis=1)\n",
    "    data['rolling_mean'] = data[lag_cols].rolling(rolling_mean_size).mean().values[:, -1]\n",
    "    \n",
    "    return data"
   ]
  },
  {
   "cell_type": "markdown",
   "id": "26310adb-430e-484e-aee4-47b974ae0a4c",
   "metadata": {
    "tags": []
   },
   "source": [
    "### Машинное обучение\n"
   ]
  },
  {
   "cell_type": "code",
   "execution_count": 219,
   "id": "6e164c1b-176b-40a4-b147-12ecffd09cfb",
   "metadata": {
    "execution": {
     "iopub.execute_input": "2023-06-16T20:00:46.286389Z",
     "iopub.status.busy": "2023-06-16T20:00:46.286075Z",
     "iopub.status.idle": "2023-06-16T20:00:57.826466Z",
     "shell.execute_reply": "2023-06-16T20:00:57.825947Z",
     "shell.execute_reply.started": "2023-06-16T20:00:46.286372Z"
    },
    "tags": []
   },
   "outputs": [
    {
     "name": "stdout",
     "output_type": "stream",
     "text": [
      "Best RMSE: 25.030001910359562\n",
      "Lag: 5\n",
      "Window: 2\n"
     ]
    }
   ],
   "source": [
    "best_rmse = 60\n",
    "lag = 0\n",
    "window = 0\n",
    "\n",
    "\n",
    "\n",
    "for i in range(5, 100, 5):\n",
    "    for k in range(2, 50, 5):\n",
    "        data = df.copy(deep=True)\n",
    "        make_features(data, i, k)\n",
    "        data = data.dropna()\n",
    "        target = data['number_of_cars']\n",
    "        features = data.drop(['number_of_cars'], axis=1)\n",
    "        \n",
    "        model_lin_regression = LinearRegression()\n",
    "        scores = cross_val_score(model_lin_regression, features, target, cv=tscv, scoring=scoring_metric)\n",
    "        rmse = np.sqrt(np.abs(np.mean(scores)))\n",
    "        \n",
    "        if rmse < best_rmse:\n",
    "            best_rmse = rmse\n",
    "            lag = i\n",
    "            window = k\n",
    "\n",
    "print('Best RMSE:', best_rmse)\n",
    "print('Lag:', lag)\n",
    "print('Window:', window)\n"
   ]
  },
  {
   "cell_type": "code",
   "execution_count": 220,
   "id": "f63570f8-c77f-48f8-984b-5ab8ddda7830",
   "metadata": {
    "execution": {
     "iopub.execute_input": "2023-06-16T20:01:00.345009Z",
     "iopub.status.busy": "2023-06-16T20:01:00.344484Z",
     "iopub.status.idle": "2023-06-16T20:01:54.137372Z",
     "shell.execute_reply": "2023-06-16T20:01:54.136884Z",
     "shell.execute_reply.started": "2023-06-16T20:01:00.344990Z"
    },
    "tags": []
   },
   "outputs": [
    {
     "name": "stdout",
     "output_type": "stream",
     "text": [
      "Best RMSE: 15.139972198124783\n",
      "Lag: 5\n",
      "Window: 2\n"
     ]
    }
   ],
   "source": [
    "\n",
    "\n",
    "best_rmse = 60\n",
    "lag = 0\n",
    "window = 0\n",
    "\n",
    "for i in range(5, 100, 5):\n",
    "    for k in range(2, 50, 5):\n",
    "        data = df.copy(deep=True)\n",
    "        make_features(data, i, k)\n",
    "        data = data.dropna()\n",
    "        target = data['number_of_cars']\n",
    "        features = data.drop(['number_of_cars'], axis=1)\n",
    "        \n",
    "        model_lgbm = lgb.LGBMRegressor()\n",
    "        scores = cross_val_score(model_lgbm, features, target, cv=tscv, scoring=scoring_metric)\n",
    "        rmse = np.sqrt(np.abs(np.mean(scores)))\n",
    "        \n",
    "        if rmse < best_rmse:\n",
    "            best_rmse = rmse\n",
    "            lag = i\n",
    "            window = k\n",
    "\n",
    "print('Best RMSE:', best_rmse)\n",
    "print('Lag:', lag)\n",
    "print('Window:', window)\n"
   ]
  },
  {
   "cell_type": "markdown",
   "id": "368cfb20-94e2-4aaf-9c39-14f0c6d32075",
   "metadata": {},
   "source": [
    "Сохраним модель"
   ]
  },
  {
   "cell_type": "code",
   "execution_count": 233,
   "id": "7950e1dc-5c30-4cdd-8cd2-653b9b8a56a0",
   "metadata": {
    "execution": {
     "iopub.execute_input": "2023-06-16T20:07:51.250149Z",
     "iopub.status.busy": "2023-06-16T20:07:51.249948Z",
     "iopub.status.idle": "2023-06-16T20:07:51.364318Z",
     "shell.execute_reply": "2023-06-16T20:07:51.363736Z",
     "shell.execute_reply.started": "2023-06-16T20:07:51.250133Z"
    },
    "tags": []
   },
   "outputs": [
    {
     "data": {
      "text/html": [
       "<style>#sk-container-id-3 {color: black;background-color: white;}#sk-container-id-3 pre{padding: 0;}#sk-container-id-3 div.sk-toggleable {background-color: white;}#sk-container-id-3 label.sk-toggleable__label {cursor: pointer;display: block;width: 100%;margin-bottom: 0;padding: 0.3em;box-sizing: border-box;text-align: center;}#sk-container-id-3 label.sk-toggleable__label-arrow:before {content: \"▸\";float: left;margin-right: 0.25em;color: #696969;}#sk-container-id-3 label.sk-toggleable__label-arrow:hover:before {color: black;}#sk-container-id-3 div.sk-estimator:hover label.sk-toggleable__label-arrow:before {color: black;}#sk-container-id-3 div.sk-toggleable__content {max-height: 0;max-width: 0;overflow: hidden;text-align: left;background-color: #f0f8ff;}#sk-container-id-3 div.sk-toggleable__content pre {margin: 0.2em;color: black;border-radius: 0.25em;background-color: #f0f8ff;}#sk-container-id-3 input.sk-toggleable__control:checked~div.sk-toggleable__content {max-height: 200px;max-width: 100%;overflow: auto;}#sk-container-id-3 input.sk-toggleable__control:checked~label.sk-toggleable__label-arrow:before {content: \"▾\";}#sk-container-id-3 div.sk-estimator input.sk-toggleable__control:checked~label.sk-toggleable__label {background-color: #d4ebff;}#sk-container-id-3 div.sk-label input.sk-toggleable__control:checked~label.sk-toggleable__label {background-color: #d4ebff;}#sk-container-id-3 input.sk-hidden--visually {border: 0;clip: rect(1px 1px 1px 1px);clip: rect(1px, 1px, 1px, 1px);height: 1px;margin: -1px;overflow: hidden;padding: 0;position: absolute;width: 1px;}#sk-container-id-3 div.sk-estimator {font-family: monospace;background-color: #f0f8ff;border: 1px dotted black;border-radius: 0.25em;box-sizing: border-box;margin-bottom: 0.5em;}#sk-container-id-3 div.sk-estimator:hover {background-color: #d4ebff;}#sk-container-id-3 div.sk-parallel-item::after {content: \"\";width: 100%;border-bottom: 1px solid gray;flex-grow: 1;}#sk-container-id-3 div.sk-label:hover label.sk-toggleable__label {background-color: #d4ebff;}#sk-container-id-3 div.sk-serial::before {content: \"\";position: absolute;border-left: 1px solid gray;box-sizing: border-box;top: 0;bottom: 0;left: 50%;z-index: 0;}#sk-container-id-3 div.sk-serial {display: flex;flex-direction: column;align-items: center;background-color: white;padding-right: 0.2em;padding-left: 0.2em;position: relative;}#sk-container-id-3 div.sk-item {position: relative;z-index: 1;}#sk-container-id-3 div.sk-parallel {display: flex;align-items: stretch;justify-content: center;background-color: white;position: relative;}#sk-container-id-3 div.sk-item::before, #sk-container-id-3 div.sk-parallel-item::before {content: \"\";position: absolute;border-left: 1px solid gray;box-sizing: border-box;top: 0;bottom: 0;left: 50%;z-index: -1;}#sk-container-id-3 div.sk-parallel-item {display: flex;flex-direction: column;z-index: 1;position: relative;background-color: white;}#sk-container-id-3 div.sk-parallel-item:first-child::after {align-self: flex-end;width: 50%;}#sk-container-id-3 div.sk-parallel-item:last-child::after {align-self: flex-start;width: 50%;}#sk-container-id-3 div.sk-parallel-item:only-child::after {width: 0;}#sk-container-id-3 div.sk-dashed-wrapped {border: 1px dashed gray;margin: 0 0.4em 0.5em 0.4em;box-sizing: border-box;padding-bottom: 0.4em;background-color: white;}#sk-container-id-3 div.sk-label label {font-family: monospace;font-weight: bold;display: inline-block;line-height: 1.2em;}#sk-container-id-3 div.sk-label-container {text-align: center;}#sk-container-id-3 div.sk-container {/* jupyter's `normalize.less` sets `[hidden] { display: none; }` but bootstrap.min.css set `[hidden] { display: none !important; }` so we also need the `!important` here to be able to override the default hidden behavior on the sphinx rendered scikit-learn.org. See: https://github.com/scikit-learn/scikit-learn/issues/21755 */display: inline-block !important;position: relative;}#sk-container-id-3 div.sk-text-repr-fallback {display: none;}</style><div id=\"sk-container-id-3\" class=\"sk-top-container\"><div class=\"sk-text-repr-fallback\"><pre>LGBMRegressor()</pre><b>In a Jupyter environment, please rerun this cell to show the HTML representation or trust the notebook. <br />On GitHub, the HTML representation is unable to render, please try loading this page with nbviewer.org.</b></div><div class=\"sk-container\" hidden><div class=\"sk-item\"><div class=\"sk-estimator sk-toggleable\"><input class=\"sk-toggleable__control sk-hidden--visually\" id=\"sk-estimator-id-3\" type=\"checkbox\" checked><label for=\"sk-estimator-id-3\" class=\"sk-toggleable__label sk-toggleable__label-arrow\">LGBMRegressor</label><div class=\"sk-toggleable__content\"><pre>LGBMRegressor()</pre></div></div></div></div></div>"
      ],
      "text/plain": [
       "LGBMRegressor()"
      ]
     },
     "execution_count": 233,
     "metadata": {},
     "output_type": "execute_result"
    }
   ],
   "source": [
    "data = df.copy(deep=True)\n",
    "make_features(data, lag, window)\n",
    "data = data.dropna()\n",
    "target = data[['number_of_cars']]\n",
    "features = data.drop(['number_of_cars'], axis=1)\n",
    "model_lgbm = lgb.LGBMRegressor()\n",
    "model_lgbm.fit(features,target)"
   ]
  },
  {
   "cell_type": "code",
   "execution_count": 222,
   "id": "f4cf313d-a9b6-47ff-88f3-4dbf20314f8c",
   "metadata": {
    "execution": {
     "iopub.execute_input": "2023-06-16T20:02:51.997314Z",
     "iopub.status.busy": "2023-06-16T20:02:51.996779Z",
     "iopub.status.idle": "2023-06-16T20:02:52.002473Z",
     "shell.execute_reply": "2023-06-16T20:02:52.002096Z",
     "shell.execute_reply.started": "2023-06-16T20:02:51.997290Z"
    },
    "tags": []
   },
   "outputs": [
    {
     "data": {
      "text/html": [
       "<div>\n",
       "<style scoped>\n",
       "    .dataframe tbody tr th:only-of-type {\n",
       "        vertical-align: middle;\n",
       "    }\n",
       "\n",
       "    .dataframe tbody tr th {\n",
       "        vertical-align: top;\n",
       "    }\n",
       "\n",
       "    .dataframe thead th {\n",
       "        text-align: right;\n",
       "    }\n",
       "</style>\n",
       "<table border=\"1\" class=\"dataframe\">\n",
       "  <thead>\n",
       "    <tr style=\"text-align: right;\">\n",
       "      <th></th>\n",
       "      <th>date</th>\n",
       "      <th>temperature</th>\n",
       "    </tr>\n",
       "  </thead>\n",
       "  <tbody>\n",
       "    <tr>\n",
       "      <th>0</th>\n",
       "      <td>2023-07-01</td>\n",
       "      <td>18</td>\n",
       "    </tr>\n",
       "  </tbody>\n",
       "</table>\n",
       "</div>"
      ],
      "text/plain": [
       "        date  temperature\n",
       "0 2023-07-01           18"
      ]
     },
     "execution_count": 222,
     "metadata": {},
     "output_type": "execute_result"
    }
   ],
   "source": [
    "data"
   ]
  },
  {
   "cell_type": "code",
   "execution_count": null,
   "id": "8991c73f-34dd-4e4f-92b0-1b8196032b15",
   "metadata": {},
   "outputs": [],
   "source": []
  },
  {
   "cell_type": "code",
   "execution_count": 259,
   "id": "59081965-9344-4c46-a066-4e310b8ae23c",
   "metadata": {
    "execution": {
     "iopub.execute_input": "2023-06-16T20:22:26.190378Z",
     "iopub.status.busy": "2023-06-16T20:22:26.189946Z",
     "iopub.status.idle": "2023-06-16T20:22:26.213240Z",
     "shell.execute_reply": "2023-06-16T20:22:26.212570Z",
     "shell.execute_reply.started": "2023-06-16T20:22:26.190360Z"
    },
    "tags": []
   },
   "outputs": [
    {
     "data": {
      "text/html": [
       "<div>\n",
       "<style scoped>\n",
       "    .dataframe tbody tr th:only-of-type {\n",
       "        vertical-align: middle;\n",
       "    }\n",
       "\n",
       "    .dataframe tbody tr th {\n",
       "        vertical-align: top;\n",
       "    }\n",
       "\n",
       "    .dataframe thead th {\n",
       "        text-align: right;\n",
       "    }\n",
       "</style>\n",
       "<table border=\"1\" class=\"dataframe\">\n",
       "  <thead>\n",
       "    <tr style=\"text-align: right;\">\n",
       "      <th></th>\n",
       "      <th>temperature</th>\n",
       "      <th>year</th>\n",
       "      <th>month</th>\n",
       "      <th>day</th>\n",
       "      <th>hour</th>\n",
       "      <th>dayofweek</th>\n",
       "      <th>predictions</th>\n",
       "    </tr>\n",
       "  </thead>\n",
       "  <tbody>\n",
       "    <tr>\n",
       "      <th>2024-07-02 00:00:00</th>\n",
       "      <td>22</td>\n",
       "      <td>2024</td>\n",
       "      <td>7</td>\n",
       "      <td>2</td>\n",
       "      <td>0</td>\n",
       "      <td>1</td>\n",
       "      <td>22.187373</td>\n",
       "    </tr>\n",
       "    <tr>\n",
       "      <th>2024-07-02 01:00:00</th>\n",
       "      <td>25</td>\n",
       "      <td>2024</td>\n",
       "      <td>7</td>\n",
       "      <td>2</td>\n",
       "      <td>1</td>\n",
       "      <td>1</td>\n",
       "      <td>25.065182</td>\n",
       "    </tr>\n",
       "    <tr>\n",
       "      <th>2024-07-02 02:00:00</th>\n",
       "      <td>10</td>\n",
       "      <td>2024</td>\n",
       "      <td>7</td>\n",
       "      <td>2</td>\n",
       "      <td>2</td>\n",
       "      <td>1</td>\n",
       "      <td>23.444851</td>\n",
       "    </tr>\n",
       "    <tr>\n",
       "      <th>2024-07-02 03:00:00</th>\n",
       "      <td>13</td>\n",
       "      <td>2024</td>\n",
       "      <td>7</td>\n",
       "      <td>2</td>\n",
       "      <td>3</td>\n",
       "      <td>1</td>\n",
       "      <td>27.069087</td>\n",
       "    </tr>\n",
       "    <tr>\n",
       "      <th>2024-07-02 04:00:00</th>\n",
       "      <td>13</td>\n",
       "      <td>2024</td>\n",
       "      <td>7</td>\n",
       "      <td>2</td>\n",
       "      <td>4</td>\n",
       "      <td>1</td>\n",
       "      <td>26.673440</td>\n",
       "    </tr>\n",
       "    <tr>\n",
       "      <th>2024-07-02 05:00:00</th>\n",
       "      <td>17</td>\n",
       "      <td>2024</td>\n",
       "      <td>7</td>\n",
       "      <td>2</td>\n",
       "      <td>5</td>\n",
       "      <td>1</td>\n",
       "      <td>27.003790</td>\n",
       "    </tr>\n",
       "    <tr>\n",
       "      <th>2024-07-02 06:00:00</th>\n",
       "      <td>19</td>\n",
       "      <td>2024</td>\n",
       "      <td>7</td>\n",
       "      <td>2</td>\n",
       "      <td>6</td>\n",
       "      <td>1</td>\n",
       "      <td>26.465845</td>\n",
       "    </tr>\n",
       "    <tr>\n",
       "      <th>2024-07-02 07:00:00</th>\n",
       "      <td>29</td>\n",
       "      <td>2024</td>\n",
       "      <td>7</td>\n",
       "      <td>2</td>\n",
       "      <td>7</td>\n",
       "      <td>1</td>\n",
       "      <td>76.726729</td>\n",
       "    </tr>\n",
       "    <tr>\n",
       "      <th>2024-07-02 08:00:00</th>\n",
       "      <td>28</td>\n",
       "      <td>2024</td>\n",
       "      <td>7</td>\n",
       "      <td>2</td>\n",
       "      <td>8</td>\n",
       "      <td>1</td>\n",
       "      <td>74.814938</td>\n",
       "    </tr>\n",
       "    <tr>\n",
       "      <th>2024-07-02 09:00:00</th>\n",
       "      <td>14</td>\n",
       "      <td>2024</td>\n",
       "      <td>7</td>\n",
       "      <td>2</td>\n",
       "      <td>9</td>\n",
       "      <td>1</td>\n",
       "      <td>77.443467</td>\n",
       "    </tr>\n",
       "    <tr>\n",
       "      <th>2024-07-02 10:00:00</th>\n",
       "      <td>16</td>\n",
       "      <td>2024</td>\n",
       "      <td>7</td>\n",
       "      <td>2</td>\n",
       "      <td>10</td>\n",
       "      <td>1</td>\n",
       "      <td>29.053387</td>\n",
       "    </tr>\n",
       "    <tr>\n",
       "      <th>2024-07-02 11:00:00</th>\n",
       "      <td>22</td>\n",
       "      <td>2024</td>\n",
       "      <td>7</td>\n",
       "      <td>2</td>\n",
       "      <td>11</td>\n",
       "      <td>1</td>\n",
       "      <td>25.931397</td>\n",
       "    </tr>\n",
       "    <tr>\n",
       "      <th>2024-07-02 12:00:00</th>\n",
       "      <td>11</td>\n",
       "      <td>2024</td>\n",
       "      <td>7</td>\n",
       "      <td>2</td>\n",
       "      <td>12</td>\n",
       "      <td>1</td>\n",
       "      <td>23.580328</td>\n",
       "    </tr>\n",
       "    <tr>\n",
       "      <th>2024-07-02 13:00:00</th>\n",
       "      <td>16</td>\n",
       "      <td>2024</td>\n",
       "      <td>7</td>\n",
       "      <td>2</td>\n",
       "      <td>13</td>\n",
       "      <td>1</td>\n",
       "      <td>28.219528</td>\n",
       "    </tr>\n",
       "    <tr>\n",
       "      <th>2024-07-02 14:00:00</th>\n",
       "      <td>17</td>\n",
       "      <td>2024</td>\n",
       "      <td>7</td>\n",
       "      <td>2</td>\n",
       "      <td>14</td>\n",
       "      <td>1</td>\n",
       "      <td>28.313052</td>\n",
       "    </tr>\n",
       "    <tr>\n",
       "      <th>2024-07-02 15:00:00</th>\n",
       "      <td>24</td>\n",
       "      <td>2024</td>\n",
       "      <td>7</td>\n",
       "      <td>2</td>\n",
       "      <td>15</td>\n",
       "      <td>1</td>\n",
       "      <td>28.007129</td>\n",
       "    </tr>\n",
       "    <tr>\n",
       "      <th>2024-07-02 16:00:00</th>\n",
       "      <td>27</td>\n",
       "      <td>2024</td>\n",
       "      <td>7</td>\n",
       "      <td>2</td>\n",
       "      <td>16</td>\n",
       "      <td>1</td>\n",
       "      <td>23.046846</td>\n",
       "    </tr>\n",
       "    <tr>\n",
       "      <th>2024-07-02 17:00:00</th>\n",
       "      <td>15</td>\n",
       "      <td>2024</td>\n",
       "      <td>7</td>\n",
       "      <td>2</td>\n",
       "      <td>17</td>\n",
       "      <td>1</td>\n",
       "      <td>74.167095</td>\n",
       "    </tr>\n",
       "    <tr>\n",
       "      <th>2024-07-02 18:00:00</th>\n",
       "      <td>23</td>\n",
       "      <td>2024</td>\n",
       "      <td>7</td>\n",
       "      <td>2</td>\n",
       "      <td>18</td>\n",
       "      <td>1</td>\n",
       "      <td>75.041702</td>\n",
       "    </tr>\n",
       "    <tr>\n",
       "      <th>2024-07-02 19:00:00</th>\n",
       "      <td>18</td>\n",
       "      <td>2024</td>\n",
       "      <td>7</td>\n",
       "      <td>2</td>\n",
       "      <td>19</td>\n",
       "      <td>1</td>\n",
       "      <td>78.567705</td>\n",
       "    </tr>\n",
       "    <tr>\n",
       "      <th>2024-07-02 20:00:00</th>\n",
       "      <td>19</td>\n",
       "      <td>2024</td>\n",
       "      <td>7</td>\n",
       "      <td>2</td>\n",
       "      <td>20</td>\n",
       "      <td>1</td>\n",
       "      <td>21.094532</td>\n",
       "    </tr>\n",
       "    <tr>\n",
       "      <th>2024-07-02 21:00:00</th>\n",
       "      <td>29</td>\n",
       "      <td>2024</td>\n",
       "      <td>7</td>\n",
       "      <td>2</td>\n",
       "      <td>21</td>\n",
       "      <td>1</td>\n",
       "      <td>26.939927</td>\n",
       "    </tr>\n",
       "    <tr>\n",
       "      <th>2024-07-02 22:00:00</th>\n",
       "      <td>26</td>\n",
       "      <td>2024</td>\n",
       "      <td>7</td>\n",
       "      <td>2</td>\n",
       "      <td>22</td>\n",
       "      <td>1</td>\n",
       "      <td>24.401430</td>\n",
       "    </tr>\n",
       "    <tr>\n",
       "      <th>2024-07-02 23:00:00</th>\n",
       "      <td>29</td>\n",
       "      <td>2024</td>\n",
       "      <td>7</td>\n",
       "      <td>2</td>\n",
       "      <td>23</td>\n",
       "      <td>1</td>\n",
       "      <td>27.108025</td>\n",
       "    </tr>\n",
       "  </tbody>\n",
       "</table>\n",
       "</div>"
      ],
      "text/plain": [
       "                     temperature  year  month  day  hour  dayofweek  \\\n",
       "2024-07-02 00:00:00           22  2024      7    2     0          1   \n",
       "2024-07-02 01:00:00           25  2024      7    2     1          1   \n",
       "2024-07-02 02:00:00           10  2024      7    2     2          1   \n",
       "2024-07-02 03:00:00           13  2024      7    2     3          1   \n",
       "2024-07-02 04:00:00           13  2024      7    2     4          1   \n",
       "2024-07-02 05:00:00           17  2024      7    2     5          1   \n",
       "2024-07-02 06:00:00           19  2024      7    2     6          1   \n",
       "2024-07-02 07:00:00           29  2024      7    2     7          1   \n",
       "2024-07-02 08:00:00           28  2024      7    2     8          1   \n",
       "2024-07-02 09:00:00           14  2024      7    2     9          1   \n",
       "2024-07-02 10:00:00           16  2024      7    2    10          1   \n",
       "2024-07-02 11:00:00           22  2024      7    2    11          1   \n",
       "2024-07-02 12:00:00           11  2024      7    2    12          1   \n",
       "2024-07-02 13:00:00           16  2024      7    2    13          1   \n",
       "2024-07-02 14:00:00           17  2024      7    2    14          1   \n",
       "2024-07-02 15:00:00           24  2024      7    2    15          1   \n",
       "2024-07-02 16:00:00           27  2024      7    2    16          1   \n",
       "2024-07-02 17:00:00           15  2024      7    2    17          1   \n",
       "2024-07-02 18:00:00           23  2024      7    2    18          1   \n",
       "2024-07-02 19:00:00           18  2024      7    2    19          1   \n",
       "2024-07-02 20:00:00           19  2024      7    2    20          1   \n",
       "2024-07-02 21:00:00           29  2024      7    2    21          1   \n",
       "2024-07-02 22:00:00           26  2024      7    2    22          1   \n",
       "2024-07-02 23:00:00           29  2024      7    2    23          1   \n",
       "\n",
       "                     predictions  \n",
       "2024-07-02 00:00:00    22.187373  \n",
       "2024-07-02 01:00:00    25.065182  \n",
       "2024-07-02 02:00:00    23.444851  \n",
       "2024-07-02 03:00:00    27.069087  \n",
       "2024-07-02 04:00:00    26.673440  \n",
       "2024-07-02 05:00:00    27.003790  \n",
       "2024-07-02 06:00:00    26.465845  \n",
       "2024-07-02 07:00:00    76.726729  \n",
       "2024-07-02 08:00:00    74.814938  \n",
       "2024-07-02 09:00:00    77.443467  \n",
       "2024-07-02 10:00:00    29.053387  \n",
       "2024-07-02 11:00:00    25.931397  \n",
       "2024-07-02 12:00:00    23.580328  \n",
       "2024-07-02 13:00:00    28.219528  \n",
       "2024-07-02 14:00:00    28.313052  \n",
       "2024-07-02 15:00:00    28.007129  \n",
       "2024-07-02 16:00:00    23.046846  \n",
       "2024-07-02 17:00:00    74.167095  \n",
       "2024-07-02 18:00:00    75.041702  \n",
       "2024-07-02 19:00:00    78.567705  \n",
       "2024-07-02 20:00:00    21.094532  \n",
       "2024-07-02 21:00:00    26.939927  \n",
       "2024-07-02 22:00:00    24.401430  \n",
       "2024-07-02 23:00:00    27.108025  "
      ]
     },
     "execution_count": 259,
     "metadata": {},
     "output_type": "execute_result"
    }
   ],
   "source": [
    "import pandas as pd\n",
    "\n",
    "# Create a DataFrame with the desired date and temperature\n",
    "\n",
    "\n",
    "np.random.seed(0)\n",
    "temperatures = np.random.randint(10, 30, size=24)\n",
    "\n",
    "# Create a DataFrame with the generated temperatures\n",
    "data = pd.DataFrame({\n",
    "    'temperature': temperatures\n",
    "}, index=pd.date_range('2024-07-02 00:00:00', periods=24, freq='H'))\n",
    "\n",
    "# Convert the index to datetime format\n",
    "data.index = pd.to_datetime(data.index)\n",
    "\n",
    "data['year'] = data.index.year\n",
    "data['month'] = data.index.month\n",
    "data['day'] = data.index.day\n",
    "data['hour'] = data.index.hour\n",
    "data['dayofweek'] = data.index.dayofweek\n",
    "\n",
    "# Make predictions using your trained model\n",
    "\n",
    "# Drop the 'number_of_cars' column from the new data\n",
    "features = data\n",
    "\n",
    "# Make predictions using your trained model\n",
    "predictions = model_lgbm.predict(features)\n",
    "\n",
    "# Add the predictions to the data DataFrame\n",
    "data['predictions'] = predictions\n",
    "\n",
    "data\n",
    "\n",
    "\n"
   ]
  },
  {
   "cell_type": "code",
   "execution_count": 244,
   "id": "b3a61b36-2b6c-4e7e-83d2-a28aa1bb1f3d",
   "metadata": {
    "execution": {
     "iopub.execute_input": "2023-06-16T20:12:14.448430Z",
     "iopub.status.busy": "2023-06-16T20:12:14.448228Z",
     "iopub.status.idle": "2023-06-16T20:12:14.477775Z",
     "shell.execute_reply": "2023-06-16T20:12:14.477016Z",
     "shell.execute_reply.started": "2023-06-16T20:12:14.448414Z"
    },
    "tags": []
   },
   "outputs": [],
   "source": [
    "import pickle\n",
    "\n",
    "\n",
    "with open('traffic_forecast_model', 'wb') as f:\n",
    "    pickle.dump(model_lgbm, f)\n"
   ]
  },
  {
   "cell_type": "code",
   "execution_count": 245,
   "id": "dafa7fba-06c7-4867-89d3-b963c0d3dcd4",
   "metadata": {
    "execution": {
     "iopub.execute_input": "2023-06-16T20:12:22.947168Z",
     "iopub.status.busy": "2023-06-16T20:12:22.946964Z",
     "iopub.status.idle": "2023-06-16T20:12:22.965378Z",
     "shell.execute_reply": "2023-06-16T20:12:22.964619Z",
     "shell.execute_reply.started": "2023-06-16T20:12:22.947153Z"
    },
    "tags": []
   },
   "outputs": [],
   "source": [
    "with open('traffic_forecast_model', 'rb') as f:\n",
    "    loaded_model = pickle.load(f)"
   ]
  },
  {
   "cell_type": "markdown",
   "id": "057d4d88-362d-424d-ad0f-95144a0c7673",
   "metadata": {},
   "source": [
    "### Выводы"
   ]
  },
  {
   "cell_type": "markdown",
   "id": "10f2cc66-5930-48ba-803d-c5683dc676d9",
   "metadata": {
    "execution": {
     "iopub.execute_input": "2023-06-16T17:41:47.148399Z",
     "iopub.status.busy": "2023-06-16T17:41:47.148111Z",
     "iopub.status.idle": "2023-06-16T17:41:47.152087Z",
     "shell.execute_reply": "2023-06-16T17:41:47.151416Z",
     "shell.execute_reply.started": "2023-06-16T17:41:47.148375Z"
    },
    "tags": []
   },
   "source": [
    "1. Можем улучшать качество модели за счет подбора гиперпараметров\n",
    "\n",
    "2. Можем улучшать качество модели за счет добавления новых признаков\n",
    "\n",
    "3. В дальнейшем при добавлении данных с других соседних перекрестков, мы можем использовать более сложные алгоритмы \n",
    "\n",
    "  Autoregressive Integrated Moving Average (ARIMA), \n",
    "\n",
    "  Seasonal ARIMA (SARIMA), \n",
    "\n",
    "  and Exponential Smoothing (ETS) models \n",
    "\n",
    "\n",
    "4. Recurrent Neural Networks (RNNs) and Long Short-Term Memory (LSTM) networks, по мере добавления данных с новых перекрестков\n",
    "\n",
    "\n",
    "5.Подключение api погоды "
   ]
  },
  {
   "cell_type": "code",
   "execution_count": 84,
   "id": "12e05fc2-f564-4abf-b23c-cead2316e0b1",
   "metadata": {
    "execution": {
     "iopub.execute_input": "2023-06-16T18:36:20.404912Z",
     "iopub.status.busy": "2023-06-16T18:36:20.404605Z",
     "iopub.status.idle": "2023-06-16T18:36:20.409436Z",
     "shell.execute_reply": "2023-06-16T18:36:20.408983Z",
     "shell.execute_reply.started": "2023-06-16T18:36:20.404886Z"
    },
    "tags": []
   },
   "outputs": [],
   "source": [
    "import matplotlib.pyplot as plt\n",
    "\n",
    "def plot_traffic_for_day(df, date):\n",
    "    # Filter the dataframe for the given date\n",
    "    day_data = df[date.date()]\n",
    "\n",
    "    # Plotting\n",
    "    fig, ax = plt.subplots(figsize=(10, 6))\n",
    "    ax.plot(day_data.index, day_data['number_of_cars'], color='blue')\n",
    "    ax.set_xlabel('Time')\n",
    "    ax.set_ylabel('Number of Cars')\n",
    "    ax.set_title(f'Traffic Data for {date.date()}')\n",
    "    ax.grid(True)\n",
    "\n",
    "    # Set the x-axis tick frequency to show hours\n",
    "    ax.xaxis.set_major_locator(plt.HourLocator(interval=2))\n",
    "    ax.xaxis.set_major_formatter(plt.DateFormatter('%H:%M'))\n",
    "\n",
    "    # Rotate the x-axis tick labels for better readability\n",
    "    plt.xticks(rotation=45)\n",
    "\n",
    "    # Display the plot\n",
    "    plt.show()"
   ]
  },
  {
   "cell_type": "code",
   "execution_count": 106,
   "id": "7a6a0696-136f-4a6d-a490-124034f1fec7",
   "metadata": {
    "execution": {
     "iopub.execute_input": "2023-06-16T18:54:30.540527Z",
     "iopub.status.busy": "2023-06-16T18:54:30.537982Z",
     "iopub.status.idle": "2023-06-16T18:54:30.556306Z",
     "shell.execute_reply": "2023-06-16T18:54:30.555258Z",
     "shell.execute_reply.started": "2023-06-16T18:54:30.540413Z"
    },
    "tags": []
   },
   "outputs": [
    {
     "data": {
      "text/html": [
       "<div>\n",
       "<style scoped>\n",
       "    .dataframe tbody tr th:only-of-type {\n",
       "        vertical-align: middle;\n",
       "    }\n",
       "\n",
       "    .dataframe tbody tr th {\n",
       "        vertical-align: top;\n",
       "    }\n",
       "\n",
       "    .dataframe thead th {\n",
       "        text-align: right;\n",
       "    }\n",
       "</style>\n",
       "<table border=\"1\" class=\"dataframe\">\n",
       "  <thead>\n",
       "    <tr style=\"text-align: right;\">\n",
       "      <th></th>\n",
       "      <th>number_of_cars</th>\n",
       "    </tr>\n",
       "    <tr>\n",
       "      <th>date</th>\n",
       "      <th></th>\n",
       "    </tr>\n",
       "  </thead>\n",
       "  <tbody>\n",
       "    <tr>\n",
       "      <th>2023-01-01 00:00:00</th>\n",
       "      <td>18</td>\n",
       "    </tr>\n",
       "    <tr>\n",
       "      <th>2023-01-01 01:00:00</th>\n",
       "      <td>26</td>\n",
       "    </tr>\n",
       "    <tr>\n",
       "      <th>2023-01-01 02:00:00</th>\n",
       "      <td>35</td>\n",
       "    </tr>\n",
       "    <tr>\n",
       "      <th>2023-01-01 03:00:00</th>\n",
       "      <td>9</td>\n",
       "    </tr>\n",
       "    <tr>\n",
       "      <th>2023-01-01 04:00:00</th>\n",
       "      <td>37</td>\n",
       "    </tr>\n",
       "    <tr>\n",
       "      <th>...</th>\n",
       "      <td>...</td>\n",
       "    </tr>\n",
       "    <tr>\n",
       "      <th>2023-12-30 20:00:00</th>\n",
       "      <td>27</td>\n",
       "    </tr>\n",
       "    <tr>\n",
       "      <th>2023-12-30 21:00:00</th>\n",
       "      <td>5</td>\n",
       "    </tr>\n",
       "    <tr>\n",
       "      <th>2023-12-30 22:00:00</th>\n",
       "      <td>7</td>\n",
       "    </tr>\n",
       "    <tr>\n",
       "      <th>2023-12-30 23:00:00</th>\n",
       "      <td>24</td>\n",
       "    </tr>\n",
       "    <tr>\n",
       "      <th>2023-12-31 00:00:00</th>\n",
       "      <td>46</td>\n",
       "    </tr>\n",
       "  </tbody>\n",
       "</table>\n",
       "<p>8737 rows × 1 columns</p>\n",
       "</div>"
      ],
      "text/plain": [
       "                     number_of_cars\n",
       "date                               \n",
       "2023-01-01 00:00:00              18\n",
       "2023-01-01 01:00:00              26\n",
       "2023-01-01 02:00:00              35\n",
       "2023-01-01 03:00:00               9\n",
       "2023-01-01 04:00:00              37\n",
       "...                             ...\n",
       "2023-12-30 20:00:00              27\n",
       "2023-12-30 21:00:00               5\n",
       "2023-12-30 22:00:00               7\n",
       "2023-12-30 23:00:00              24\n",
       "2023-12-31 00:00:00              46\n",
       "\n",
       "[8737 rows x 1 columns]"
      ]
     },
     "execution_count": 106,
     "metadata": {},
     "output_type": "execute_result"
    }
   ],
   "source": [
    "df"
   ]
  },
  {
   "cell_type": "code",
   "execution_count": 164,
   "id": "5920994c-3336-4d2a-9d4b-b6b80f3491e1",
   "metadata": {
    "execution": {
     "iopub.execute_input": "2023-06-16T19:12:03.280695Z",
     "iopub.status.busy": "2023-06-16T19:12:03.280432Z",
     "iopub.status.idle": "2023-06-16T19:12:03.415097Z",
     "shell.execute_reply": "2023-06-16T19:12:03.414579Z",
     "shell.execute_reply.started": "2023-06-16T19:12:03.280678Z"
    },
    "tags": []
   },
   "outputs": [
    {
     "data": {
      "image/png": "[encoded data removed]",
      "text/plain": [
       "<Figure size 1000x600 with 1 Axes>"
      ]
     },
     "metadata": {},
     "output_type": "display_data"
    }
   ],
   "source": [
    "import matplotlib.pyplot as plt\n",
    "from datetime import datetime\n",
    "\n",
    "def plot_traffic_for_day(df, date_str):\n",
    "    # Convert date string to datetime object\n",
    "    date = datetime.strptime(date_str, '%Y-%m-%d')\n",
    "\n",
    "    # Filter the dataframe for the given date\n",
    "    day_data = df[df.index.date == date.date()]\n",
    "\n",
    "    # Plotting code...\n",
    "    fig, ax = plt.subplots(figsize=(10, 6))\n",
    "    ax.plot(day_data.index, day_data['number_of_cars'], color='blue')\n",
    "    ax.set_xlabel('Time')\n",
    "    ax.set_ylabel('Number of Cars')\n",
    "    ax.set_title(f'Traffic Data for {date.date()}')\n",
    "    ax.grid(True)\n",
    "\n",
    "    # Set the x-axis tick frequency to show hours\n",
    "\n",
    " \n",
    "    # Rotate the x-axis tick labels for better readability\n",
    "    plt.xticks(rotation=45)\n",
    "\n",
    "    # Display the plot\n",
    "    plt.show()\n",
    "\n",
    "# Call the function with the correct date format\n",
    "\n"
   ]
  },
  {
   "cell_type": "code",
   "execution_count": 168,
   "id": "d079877b-b7dc-49e4-8e31-400b1987a6fd",
   "metadata": {
    "execution": {
     "iopub.execute_input": "2023-06-16T19:13:55.234129Z",
     "iopub.status.busy": "2023-06-16T19:13:55.233476Z",
     "iopub.status.idle": "2023-06-16T19:13:55.362078Z",
     "shell.execute_reply": "2023-06-16T19:13:55.361498Z",
     "shell.execute_reply.started": "2023-06-16T19:13:55.234110Z"
    },
    "tags": []
   },
   "outputs": [
    {
     "name": "stdout",
     "output_type": "stream",
     "text": [
      "График загрузки дороги, понедельник\n"
     ]
    },
    {
     "data": {
      "image/png": "[encoded data removed]",
      "text/plain": [
       "<Figure size 1000x600 with 1 Axes>"
      ]
     },
     "metadata": {},
     "output_type": "display_data"
    }
   ],
   "source": [
    "print('График загрузки дороги, понедельник')\n",
    "plot_traffic_for_day(df, '2023-06-12')"
   ]
  },
  {
   "cell_type": "code",
   "execution_count": null,
   "id": "62820ce6-ef7a-4eef-bc53-f0eaa8feede1",
   "metadata": {},
   "outputs": [],
   "source": [
    "\n"
   ]
  },
  {
   "cell_type": "markdown",
   "id": "10e28ae0-ca2d-41cb-ae44-20971431f095",
   "metadata": {},
   "source": [
    "#Количесто людей на остановке"
   ]
  }
 ],
 "metadata": {
  "kernelspec": {
   "display_name": "Python 3 (ipykernel)",
   "language": "python",
   "name": "python3"
  },
  "language_info": {
   "codemirror_mode": {
    "name": "ipython",
    "version": 3
   },
   "file_extension": ".py",
   "mimetype": "text/x-python",
   "name": "python",
   "nbconvert_exporter": "python",
   "pygments_lexer": "ipython3",
   "version": "3.10.6"
  }
 },
 "nbformat": 4,
 "nbformat_minor": 5
}
